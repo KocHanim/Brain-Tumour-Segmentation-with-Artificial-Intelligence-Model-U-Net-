{
  "nbformat": 4,
  "nbformat_minor": 0,
  "metadata": {
    "colab": {
      "provenance": [],
      "gpuType": "T4"
    },
    "kernelspec": {
      "name": "python3",
      "display_name": "Python 3"
    },
    "language_info": {
      "name": "python"
    },
    "accelerator": "GPU"
  },
  "cells": [
    {
      "cell_type": "code",
      "execution_count": null,
      "metadata": {
        "id": "vTCarpR8qqn7"
      },
      "outputs": [],
      "source": []
    },
    {
      "cell_type": "code",
      "source": [
        "from google.colab import drive\n",
        "drive.mount('/content/drive')"
      ],
      "metadata": {
        "colab": {
          "base_uri": "https://localhost:8080/"
        },
        "id": "RJBvQFMVrfKw",
        "outputId": "4ce54c47-9fb3-457c-cb06-85f723e37344"
      },
      "execution_count": 1,
      "outputs": [
        {
          "output_type": "stream",
          "name": "stdout",
          "text": [
            "Mounted at /content/drive\n"
          ]
        }
      ]
    },
    {
      "cell_type": "code",
      "source": [
        "import numpy\n",
        "import random as r\n",
        "import glob\n",
        "import skimage.io as io\n",
        "import matplotlib.pyplot as plt\n",
        "import keras"
      ],
      "metadata": {
        "id": "R9RLzf-JrlPg"
      },
      "execution_count": 1,
      "outputs": []
    },
    {
      "cell_type": "code",
      "source": [
        "pip install simpleitk"
      ],
      "metadata": {
        "colab": {
          "base_uri": "https://localhost:8080/"
        },
        "id": "FxwY83KcrxNY",
        "outputId": "5b68dfcd-67f4-4609-8d7a-1c45df62786b"
      },
      "execution_count": 2,
      "outputs": [
        {
          "output_type": "stream",
          "name": "stdout",
          "text": [
            "Collecting simpleitk\n",
            "  Downloading SimpleITK-2.3.0-cp310-cp310-manylinux_2_17_x86_64.manylinux2014_x86_64.whl (52.6 MB)\n",
            "\u001b[2K     \u001b[90m━━━━━━━━━━━━━━━━━━━━━━━━━━━━━━━━━━━━━━━━\u001b[0m \u001b[32m52.6/52.6 MB\u001b[0m \u001b[31m16.3 MB/s\u001b[0m eta \u001b[36m0:00:00\u001b[0m\n",
            "\u001b[?25hInstalling collected packages: simpleitk\n",
            "Successfully installed simpleitk-2.3.0\n"
          ]
        }
      ]
    },
    {
      "cell_type": "code",
      "source": [
        "!unzip /content/drive/MyDrive/Brain_Tumor/MICCAI_BraTS_2019_Data_Training.zip"
      ],
      "metadata": {
        "colab": {
          "base_uri": "https://localhost:8080/"
        },
        "id": "_YX4gWnXsCBE",
        "outputId": "70947de3-a7f2-4c2d-99fd-1ee83af3202a"
      },
      "execution_count": 3,
      "outputs": [
        {
          "output_type": "stream",
          "name": "stdout",
          "text": [
            "Archive:  /content/drive/MyDrive/Brain_Tumor/MICCAI_BraTS_2019_Data_Training.zip\n",
            "   creating: MICCAI_BraTS_2019_Data_Training/HGG/\n",
            "   creating: MICCAI_BraTS_2019_Data_Training/HGG/BraTS19_2013_10_1/\n",
            "  inflating: MICCAI_BraTS_2019_Data_Training/HGG/BraTS19_2013_10_1/BraTS19_2013_10_1_flair.nii  \n",
            "  inflating: MICCAI_BraTS_2019_Data_Training/HGG/BraTS19_2013_10_1/BraTS19_2013_10_1_seg.nii  \n",
            "  inflating: MICCAI_BraTS_2019_Data_Training/HGG/BraTS19_2013_10_1/BraTS19_2013_10_1_t1.nii  \n",
            "  inflating: MICCAI_BraTS_2019_Data_Training/HGG/BraTS19_2013_10_1/BraTS19_2013_10_1_t1ce.nii  \n",
            "  inflating: MICCAI_BraTS_2019_Data_Training/HGG/BraTS19_2013_10_1/BraTS19_2013_10_1_t2.nii  \n",
            "   creating: MICCAI_BraTS_2019_Data_Training/HGG/BraTS19_2013_11_1/\n",
            "  inflating: MICCAI_BraTS_2019_Data_Training/HGG/BraTS19_2013_11_1/BraTS19_2013_11_1_flair.nii  \n",
            "  inflating: MICCAI_BraTS_2019_Data_Training/HGG/BraTS19_2013_11_1/BraTS19_2013_11_1_seg.nii  \n",
            "  inflating: MICCAI_BraTS_2019_Data_Training/HGG/BraTS19_2013_11_1/BraTS19_2013_11_1_t1.nii  \n",
            "  inflating: MICCAI_BraTS_2019_Data_Training/HGG/BraTS19_2013_11_1/BraTS19_2013_11_1_t1ce.nii  \n",
            "  inflating: MICCAI_BraTS_2019_Data_Training/HGG/BraTS19_2013_11_1/BraTS19_2013_11_1_t2.nii  \n",
            "   creating: MICCAI_BraTS_2019_Data_Training/HGG/BraTS19_2013_12_1/\n",
            "  inflating: MICCAI_BraTS_2019_Data_Training/HGG/BraTS19_2013_12_1/BraTS19_2013_12_1_flair.nii  \n",
            "  inflating: MICCAI_BraTS_2019_Data_Training/HGG/BraTS19_2013_12_1/BraTS19_2013_12_1_seg.nii  \n",
            "  inflating: MICCAI_BraTS_2019_Data_Training/HGG/BraTS19_2013_12_1/BraTS19_2013_12_1_t1.nii  \n",
            "  inflating: MICCAI_BraTS_2019_Data_Training/HGG/BraTS19_2013_12_1/BraTS19_2013_12_1_t1ce.nii  \n",
            "  inflating: MICCAI_BraTS_2019_Data_Training/HGG/BraTS19_2013_12_1/BraTS19_2013_12_1_t2.nii  \n",
            "   creating: MICCAI_BraTS_2019_Data_Training/HGG/BraTS19_2013_13_1/\n",
            "  inflating: MICCAI_BraTS_2019_Data_Training/HGG/BraTS19_2013_13_1/BraTS19_2013_13_1_flair.nii  \n",
            "  inflating: MICCAI_BraTS_2019_Data_Training/HGG/BraTS19_2013_13_1/BraTS19_2013_13_1_seg.nii  \n",
            "  inflating: MICCAI_BraTS_2019_Data_Training/HGG/BraTS19_2013_13_1/BraTS19_2013_13_1_t1.nii  \n",
            "  inflating: MICCAI_BraTS_2019_Data_Training/HGG/BraTS19_2013_13_1/BraTS19_2013_13_1_t1ce.nii  \n",
            "  inflating: MICCAI_BraTS_2019_Data_Training/HGG/BraTS19_2013_13_1/BraTS19_2013_13_1_t2.nii  \n",
            "   creating: MICCAI_BraTS_2019_Data_Training/HGG/BraTS19_2013_14_1/\n",
            "  inflating: MICCAI_BraTS_2019_Data_Training/HGG/BraTS19_2013_14_1/BraTS19_2013_14_1_flair.nii  \n",
            "  inflating: MICCAI_BraTS_2019_Data_Training/HGG/BraTS19_2013_14_1/BraTS19_2013_14_1_seg.nii  \n",
            "  inflating: MICCAI_BraTS_2019_Data_Training/HGG/BraTS19_2013_14_1/BraTS19_2013_14_1_t1.nii  \n",
            "  inflating: MICCAI_BraTS_2019_Data_Training/HGG/BraTS19_2013_14_1/BraTS19_2013_14_1_t1ce.nii  \n",
            "  inflating: MICCAI_BraTS_2019_Data_Training/HGG/BraTS19_2013_14_1/BraTS19_2013_14_1_t2.nii  \n",
            "   creating: MICCAI_BraTS_2019_Data_Training/HGG/BraTS19_2013_17_1/\n",
            "  inflating: MICCAI_BraTS_2019_Data_Training/HGG/BraTS19_2013_17_1/BraTS19_2013_17_1_flair.nii  \n",
            "  inflating: MICCAI_BraTS_2019_Data_Training/HGG/BraTS19_2013_17_1/BraTS19_2013_17_1_seg.nii  \n",
            "  inflating: MICCAI_BraTS_2019_Data_Training/HGG/BraTS19_2013_17_1/BraTS19_2013_17_1_t1.nii  \n",
            "  inflating: MICCAI_BraTS_2019_Data_Training/HGG/BraTS19_2013_17_1/BraTS19_2013_17_1_t1ce.nii  \n",
            "  inflating: MICCAI_BraTS_2019_Data_Training/HGG/BraTS19_2013_17_1/BraTS19_2013_17_1_t2.nii  \n",
            "   creating: MICCAI_BraTS_2019_Data_Training/HGG/BraTS19_2013_18_1/\n",
            "  inflating: MICCAI_BraTS_2019_Data_Training/HGG/BraTS19_2013_18_1/BraTS19_2013_18_1_flair.nii  \n",
            "  inflating: MICCAI_BraTS_2019_Data_Training/HGG/BraTS19_2013_18_1/BraTS19_2013_18_1_seg.nii  \n",
            "  inflating: MICCAI_BraTS_2019_Data_Training/HGG/BraTS19_2013_18_1/BraTS19_2013_18_1_t1.nii  \n",
            "  inflating: MICCAI_BraTS_2019_Data_Training/HGG/BraTS19_2013_18_1/BraTS19_2013_18_1_t1ce.nii  \n",
            "  inflating: MICCAI_BraTS_2019_Data_Training/HGG/BraTS19_2013_18_1/BraTS19_2013_18_1_t2.nii  \n",
            "   creating: MICCAI_BraTS_2019_Data_Training/HGG/BraTS19_2013_19_1/\n",
            "  inflating: MICCAI_BraTS_2019_Data_Training/HGG/BraTS19_2013_19_1/BraTS19_2013_19_1_flair.nii  \n",
            "  inflating: MICCAI_BraTS_2019_Data_Training/HGG/BraTS19_2013_19_1/BraTS19_2013_19_1_seg.nii  \n",
            "  inflating: MICCAI_BraTS_2019_Data_Training/HGG/BraTS19_2013_19_1/BraTS19_2013_19_1_t1.nii  \n",
            "  inflating: MICCAI_BraTS_2019_Data_Training/HGG/BraTS19_2013_19_1/BraTS19_2013_19_1_t1ce.nii  \n",
            "  inflating: MICCAI_BraTS_2019_Data_Training/HGG/BraTS19_2013_19_1/BraTS19_2013_19_1_t2.nii  \n",
            "   creating: MICCAI_BraTS_2019_Data_Training/HGG/BraTS19_2013_2_1/\n",
            "  inflating: MICCAI_BraTS_2019_Data_Training/HGG/BraTS19_2013_2_1/BraTS19_2013_2_1_flair.nii  \n",
            "  inflating: MICCAI_BraTS_2019_Data_Training/HGG/BraTS19_2013_2_1/BraTS19_2013_2_1_seg.nii  \n",
            "  inflating: MICCAI_BraTS_2019_Data_Training/HGG/BraTS19_2013_2_1/BraTS19_2013_2_1_t1.nii  \n",
            "  inflating: MICCAI_BraTS_2019_Data_Training/HGG/BraTS19_2013_2_1/BraTS19_2013_2_1_t1ce.nii  \n",
            "  inflating: MICCAI_BraTS_2019_Data_Training/HGG/BraTS19_2013_2_1/BraTS19_2013_2_1_t2.nii  \n",
            "   creating: MICCAI_BraTS_2019_Data_Training/HGG/BraTS19_2013_20_1/\n",
            "  inflating: MICCAI_BraTS_2019_Data_Training/HGG/BraTS19_2013_20_1/BraTS19_2013_20_1_flair.nii  \n",
            "  inflating: MICCAI_BraTS_2019_Data_Training/HGG/BraTS19_2013_20_1/BraTS19_2013_20_1_seg.nii  \n",
            "  inflating: MICCAI_BraTS_2019_Data_Training/HGG/BraTS19_2013_20_1/BraTS19_2013_20_1_t1.nii  \n",
            "  inflating: MICCAI_BraTS_2019_Data_Training/HGG/BraTS19_2013_20_1/BraTS19_2013_20_1_t1ce.nii  \n",
            "  inflating: MICCAI_BraTS_2019_Data_Training/HGG/BraTS19_2013_20_1/BraTS19_2013_20_1_t2.nii  \n",
            "   creating: MICCAI_BraTS_2019_Data_Training/HGG/BraTS19_2013_21_1/\n",
            "  inflating: MICCAI_BraTS_2019_Data_Training/HGG/BraTS19_2013_21_1/BraTS19_2013_21_1_flair.nii  \n",
            "  inflating: MICCAI_BraTS_2019_Data_Training/HGG/BraTS19_2013_21_1/BraTS19_2013_21_1_seg.nii  \n",
            "  inflating: MICCAI_BraTS_2019_Data_Training/HGG/BraTS19_2013_21_1/BraTS19_2013_21_1_t1.nii  \n",
            "  inflating: MICCAI_BraTS_2019_Data_Training/HGG/BraTS19_2013_21_1/BraTS19_2013_21_1_t1ce.nii  \n",
            "  inflating: MICCAI_BraTS_2019_Data_Training/HGG/BraTS19_2013_21_1/BraTS19_2013_21_1_t2.nii  \n",
            "   creating: MICCAI_BraTS_2019_Data_Training/HGG/BraTS19_2013_22_1/\n",
            "  inflating: MICCAI_BraTS_2019_Data_Training/HGG/BraTS19_2013_22_1/BraTS19_2013_22_1_flair.nii  \n",
            "  inflating: MICCAI_BraTS_2019_Data_Training/HGG/BraTS19_2013_22_1/BraTS19_2013_22_1_seg.nii  \n",
            "  inflating: MICCAI_BraTS_2019_Data_Training/HGG/BraTS19_2013_22_1/BraTS19_2013_22_1_t1.nii  \n",
            "  inflating: MICCAI_BraTS_2019_Data_Training/HGG/BraTS19_2013_22_1/BraTS19_2013_22_1_t1ce.nii  \n",
            "  inflating: MICCAI_BraTS_2019_Data_Training/HGG/BraTS19_2013_22_1/BraTS19_2013_22_1_t2.nii  \n",
            "   creating: MICCAI_BraTS_2019_Data_Training/HGG/BraTS19_2013_23_1/\n",
            "  inflating: MICCAI_BraTS_2019_Data_Training/HGG/BraTS19_2013_23_1/BraTS19_2013_23_1_flair.nii  \n",
            "  inflating: MICCAI_BraTS_2019_Data_Training/HGG/BraTS19_2013_23_1/BraTS19_2013_23_1_seg.nii  \n",
            "  inflating: MICCAI_BraTS_2019_Data_Training/HGG/BraTS19_2013_23_1/BraTS19_2013_23_1_t1.nii  \n",
            "  inflating: MICCAI_BraTS_2019_Data_Training/HGG/BraTS19_2013_23_1/BraTS19_2013_23_1_t1ce.nii  \n",
            "  inflating: MICCAI_BraTS_2019_Data_Training/HGG/BraTS19_2013_23_1/BraTS19_2013_23_1_t2.nii  \n",
            "   creating: MICCAI_BraTS_2019_Data_Training/HGG/BraTS19_2013_25_1/\n",
            "  inflating: MICCAI_BraTS_2019_Data_Training/HGG/BraTS19_2013_25_1/BraTS19_2013_25_1_flair.nii  \n",
            "  inflating: MICCAI_BraTS_2019_Data_Training/HGG/BraTS19_2013_25_1/BraTS19_2013_25_1_seg.nii  \n",
            "  inflating: MICCAI_BraTS_2019_Data_Training/HGG/BraTS19_2013_25_1/BraTS19_2013_25_1_t1.nii  \n",
            "  inflating: MICCAI_BraTS_2019_Data_Training/HGG/BraTS19_2013_25_1/BraTS19_2013_25_1_t1ce.nii  \n",
            "  inflating: MICCAI_BraTS_2019_Data_Training/HGG/BraTS19_2013_25_1/BraTS19_2013_25_1_t2.nii  \n",
            "   creating: MICCAI_BraTS_2019_Data_Training/HGG/BraTS19_2013_26_1/\n",
            "  inflating: MICCAI_BraTS_2019_Data_Training/HGG/BraTS19_2013_26_1/BraTS19_2013_26_1_flair.nii  \n",
            "  inflating: MICCAI_BraTS_2019_Data_Training/HGG/BraTS19_2013_26_1/BraTS19_2013_26_1_seg.nii  \n",
            "  inflating: MICCAI_BraTS_2019_Data_Training/HGG/BraTS19_2013_26_1/BraTS19_2013_26_1_t1.nii  \n",
            "  inflating: MICCAI_BraTS_2019_Data_Training/HGG/BraTS19_2013_26_1/BraTS19_2013_26_1_t1ce.nii  \n",
            "  inflating: MICCAI_BraTS_2019_Data_Training/HGG/BraTS19_2013_26_1/BraTS19_2013_26_1_t2.nii  \n",
            "   creating: MICCAI_BraTS_2019_Data_Training/HGG/BraTS19_2013_27_1/\n",
            "  inflating: MICCAI_BraTS_2019_Data_Training/HGG/BraTS19_2013_27_1/BraTS19_2013_27_1_flair.nii  \n",
            "  inflating: MICCAI_BraTS_2019_Data_Training/HGG/BraTS19_2013_27_1/BraTS19_2013_27_1_seg.nii  \n",
            "  inflating: MICCAI_BraTS_2019_Data_Training/HGG/BraTS19_2013_27_1/BraTS19_2013_27_1_t1.nii  \n",
            "  inflating: MICCAI_BraTS_2019_Data_Training/HGG/BraTS19_2013_27_1/BraTS19_2013_27_1_t1ce.nii  \n",
            "  inflating: MICCAI_BraTS_2019_Data_Training/HGG/BraTS19_2013_27_1/BraTS19_2013_27_1_t2.nii  \n",
            "   creating: MICCAI_BraTS_2019_Data_Training/HGG/BraTS19_2013_3_1/\n",
            "  inflating: MICCAI_BraTS_2019_Data_Training/HGG/BraTS19_2013_3_1/BraTS19_2013_3_1_flair.nii  \n",
            "  inflating: MICCAI_BraTS_2019_Data_Training/HGG/BraTS19_2013_3_1/BraTS19_2013_3_1_seg.nii  \n",
            "  inflating: MICCAI_BraTS_2019_Data_Training/HGG/BraTS19_2013_3_1/BraTS19_2013_3_1_t1.nii  \n",
            "  inflating: MICCAI_BraTS_2019_Data_Training/HGG/BraTS19_2013_3_1/BraTS19_2013_3_1_t1ce.nii  \n",
            "  inflating: MICCAI_BraTS_2019_Data_Training/HGG/BraTS19_2013_3_1/BraTS19_2013_3_1_t2.nii  \n",
            "   creating: MICCAI_BraTS_2019_Data_Training/HGG/BraTS19_2013_4_1/\n",
            "  inflating: MICCAI_BraTS_2019_Data_Training/HGG/BraTS19_2013_4_1/BraTS19_2013_4_1_flair.nii  \n",
            "  inflating: MICCAI_BraTS_2019_Data_Training/HGG/BraTS19_2013_4_1/BraTS19_2013_4_1_seg.nii  \n",
            "  inflating: MICCAI_BraTS_2019_Data_Training/HGG/BraTS19_2013_4_1/BraTS19_2013_4_1_t1.nii  \n",
            "  inflating: MICCAI_BraTS_2019_Data_Training/HGG/BraTS19_2013_4_1/BraTS19_2013_4_1_t1ce.nii  \n",
            "  inflating: MICCAI_BraTS_2019_Data_Training/HGG/BraTS19_2013_4_1/BraTS19_2013_4_1_t2.nii  \n",
            "   creating: MICCAI_BraTS_2019_Data_Training/HGG/BraTS19_2013_5_1/\n",
            "  inflating: MICCAI_BraTS_2019_Data_Training/HGG/BraTS19_2013_5_1/BraTS19_2013_5_1_flair.nii  \n",
            "  inflating: MICCAI_BraTS_2019_Data_Training/HGG/BraTS19_2013_5_1/BraTS19_2013_5_1_seg.nii  \n",
            "  inflating: MICCAI_BraTS_2019_Data_Training/HGG/BraTS19_2013_5_1/BraTS19_2013_5_1_t1.nii  \n",
            "  inflating: MICCAI_BraTS_2019_Data_Training/HGG/BraTS19_2013_5_1/BraTS19_2013_5_1_t1ce.nii  \n",
            "  inflating: MICCAI_BraTS_2019_Data_Training/HGG/BraTS19_2013_5_1/BraTS19_2013_5_1_t2.nii  \n",
            "   creating: MICCAI_BraTS_2019_Data_Training/HGG/BraTS19_2013_7_1/\n",
            "  inflating: MICCAI_BraTS_2019_Data_Training/HGG/BraTS19_2013_7_1/BraTS19_2013_7_1_flair.nii  \n",
            "  inflating: MICCAI_BraTS_2019_Data_Training/HGG/BraTS19_2013_7_1/BraTS19_2013_7_1_seg.nii  \n",
            "  inflating: MICCAI_BraTS_2019_Data_Training/HGG/BraTS19_2013_7_1/BraTS19_2013_7_1_t1.nii  \n",
            "  inflating: MICCAI_BraTS_2019_Data_Training/HGG/BraTS19_2013_7_1/BraTS19_2013_7_1_t1ce.nii  \n",
            "  inflating: MICCAI_BraTS_2019_Data_Training/HGG/BraTS19_2013_7_1/BraTS19_2013_7_1_t2.nii  \n",
            "   creating: MICCAI_BraTS_2019_Data_Training/LGG/\n",
            "   creating: MICCAI_BraTS_2019_Data_Training/LGG/BraTS19_2013_0_1/\n",
            "  inflating: MICCAI_BraTS_2019_Data_Training/LGG/BraTS19_2013_0_1/BraTS19_2013_0_1_flair.nii  \n",
            "  inflating: MICCAI_BraTS_2019_Data_Training/LGG/BraTS19_2013_0_1/BraTS19_2013_0_1_seg.nii  \n",
            "  inflating: MICCAI_BraTS_2019_Data_Training/LGG/BraTS19_2013_0_1/BraTS19_2013_0_1_t1.nii  \n",
            "  inflating: MICCAI_BraTS_2019_Data_Training/LGG/BraTS19_2013_0_1/BraTS19_2013_0_1_t1ce.nii  \n",
            "  inflating: MICCAI_BraTS_2019_Data_Training/LGG/BraTS19_2013_0_1/BraTS19_2013_0_1_t2.nii  \n",
            "   creating: MICCAI_BraTS_2019_Data_Training/LGG/BraTS19_2013_1_1/\n",
            "  inflating: MICCAI_BraTS_2019_Data_Training/LGG/BraTS19_2013_1_1/BraTS19_2013_1_1_flair.nii  \n",
            "  inflating: MICCAI_BraTS_2019_Data_Training/LGG/BraTS19_2013_1_1/BraTS19_2013_1_1_seg.nii  \n",
            "  inflating: MICCAI_BraTS_2019_Data_Training/LGG/BraTS19_2013_1_1/BraTS19_2013_1_1_t1.nii  \n",
            "  inflating: MICCAI_BraTS_2019_Data_Training/LGG/BraTS19_2013_1_1/BraTS19_2013_1_1_t1ce.nii  \n",
            "  inflating: MICCAI_BraTS_2019_Data_Training/LGG/BraTS19_2013_1_1/BraTS19_2013_1_1_t2.nii  \n",
            "   creating: MICCAI_BraTS_2019_Data_Training/LGG/BraTS19_2013_15_1/\n",
            "  inflating: MICCAI_BraTS_2019_Data_Training/LGG/BraTS19_2013_15_1/BraTS19_2013_15_1_flair.nii  \n",
            "  inflating: MICCAI_BraTS_2019_Data_Training/LGG/BraTS19_2013_15_1/BraTS19_2013_15_1_seg.nii  \n",
            "  inflating: MICCAI_BraTS_2019_Data_Training/LGG/BraTS19_2013_15_1/BraTS19_2013_15_1_t1.nii  \n",
            "  inflating: MICCAI_BraTS_2019_Data_Training/LGG/BraTS19_2013_15_1/BraTS19_2013_15_1_t1ce.nii  \n",
            "  inflating: MICCAI_BraTS_2019_Data_Training/LGG/BraTS19_2013_15_1/BraTS19_2013_15_1_t2.nii  \n",
            "   creating: MICCAI_BraTS_2019_Data_Training/LGG/BraTS19_2013_16_1/\n",
            "  inflating: MICCAI_BraTS_2019_Data_Training/LGG/BraTS19_2013_16_1/BraTS19_2013_16_1_flair.nii  \n",
            "  inflating: MICCAI_BraTS_2019_Data_Training/LGG/BraTS19_2013_16_1/BraTS19_2013_16_1_seg.nii  \n",
            "  inflating: MICCAI_BraTS_2019_Data_Training/LGG/BraTS19_2013_16_1/BraTS19_2013_16_1_t1.nii  \n",
            "  inflating: MICCAI_BraTS_2019_Data_Training/LGG/BraTS19_2013_16_1/BraTS19_2013_16_1_t1ce.nii  \n",
            "  inflating: MICCAI_BraTS_2019_Data_Training/LGG/BraTS19_2013_16_1/BraTS19_2013_16_1_t2.nii  \n",
            "   creating: MICCAI_BraTS_2019_Data_Training/LGG/BraTS19_2013_24_1/\n",
            "  inflating: MICCAI_BraTS_2019_Data_Training/LGG/BraTS19_2013_24_1/BraTS19_2013_24_1_flair.nii  \n",
            "  inflating: MICCAI_BraTS_2019_Data_Training/LGG/BraTS19_2013_24_1/BraTS19_2013_24_1_seg.nii  \n",
            "  inflating: MICCAI_BraTS_2019_Data_Training/LGG/BraTS19_2013_24_1/BraTS19_2013_24_1_t1.nii  \n",
            "  inflating: MICCAI_BraTS_2019_Data_Training/LGG/BraTS19_2013_24_1/BraTS19_2013_24_1_t1ce.nii  \n",
            "  inflating: MICCAI_BraTS_2019_Data_Training/LGG/BraTS19_2013_24_1/BraTS19_2013_24_1_t2.nii  \n",
            "   creating: MICCAI_BraTS_2019_Data_Training/LGG/BraTS19_2013_28_1/\n",
            "  inflating: MICCAI_BraTS_2019_Data_Training/LGG/BraTS19_2013_28_1/BraTS19_2013_28_1_flair.nii  \n",
            "  inflating: MICCAI_BraTS_2019_Data_Training/LGG/BraTS19_2013_28_1/BraTS19_2013_28_1_seg.nii  \n",
            "  inflating: MICCAI_BraTS_2019_Data_Training/LGG/BraTS19_2013_28_1/BraTS19_2013_28_1_t1.nii  \n",
            "  inflating: MICCAI_BraTS_2019_Data_Training/LGG/BraTS19_2013_28_1/BraTS19_2013_28_1_t1ce.nii  \n",
            "  inflating: MICCAI_BraTS_2019_Data_Training/LGG/BraTS19_2013_28_1/BraTS19_2013_28_1_t2.nii  \n",
            "   creating: MICCAI_BraTS_2019_Data_Training/LGG/BraTS19_2013_29_1/\n",
            "  inflating: MICCAI_BraTS_2019_Data_Training/LGG/BraTS19_2013_29_1/BraTS19_2013_29_1_flair.nii  \n",
            "  inflating: MICCAI_BraTS_2019_Data_Training/LGG/BraTS19_2013_29_1/BraTS19_2013_29_1_seg.nii  \n",
            "  inflating: MICCAI_BraTS_2019_Data_Training/LGG/BraTS19_2013_29_1/BraTS19_2013_29_1_t1.nii  \n",
            "  inflating: MICCAI_BraTS_2019_Data_Training/LGG/BraTS19_2013_29_1/BraTS19_2013_29_1_t1ce.nii  \n",
            "  inflating: MICCAI_BraTS_2019_Data_Training/LGG/BraTS19_2013_29_1/BraTS19_2013_29_1_t2.nii  \n",
            "   creating: MICCAI_BraTS_2019_Data_Training/LGG/BraTS19_2013_6_1/\n",
            "  inflating: MICCAI_BraTS_2019_Data_Training/LGG/BraTS19_2013_6_1/BraTS19_2013_6_1_flair.nii  \n",
            "  inflating: MICCAI_BraTS_2019_Data_Training/LGG/BraTS19_2013_6_1/BraTS19_2013_6_1_seg.nii  \n",
            "  inflating: MICCAI_BraTS_2019_Data_Training/LGG/BraTS19_2013_6_1/BraTS19_2013_6_1_t1.nii  \n",
            "  inflating: MICCAI_BraTS_2019_Data_Training/LGG/BraTS19_2013_6_1/BraTS19_2013_6_1_t1ce.nii  \n",
            "  inflating: MICCAI_BraTS_2019_Data_Training/LGG/BraTS19_2013_6_1/BraTS19_2013_6_1_t2.nii  \n",
            "   creating: MICCAI_BraTS_2019_Data_Training/LGG/BraTS19_2013_8_1/\n",
            "  inflating: MICCAI_BraTS_2019_Data_Training/LGG/BraTS19_2013_8_1/BraTS19_2013_8_1_flair.nii  \n",
            "  inflating: MICCAI_BraTS_2019_Data_Training/LGG/BraTS19_2013_8_1/BraTS19_2013_8_1_seg.nii  \n",
            "  inflating: MICCAI_BraTS_2019_Data_Training/LGG/BraTS19_2013_8_1/BraTS19_2013_8_1_t1.nii  \n",
            "  inflating: MICCAI_BraTS_2019_Data_Training/LGG/BraTS19_2013_8_1/BraTS19_2013_8_1_t1ce.nii  \n",
            "  inflating: MICCAI_BraTS_2019_Data_Training/LGG/BraTS19_2013_8_1/BraTS19_2013_8_1_t2.nii  \n",
            "   creating: MICCAI_BraTS_2019_Data_Training/LGG/BraTS19_2013_9_1/\n",
            "  inflating: MICCAI_BraTS_2019_Data_Training/LGG/BraTS19_2013_9_1/BraTS19_2013_9_1_flair.nii  \n",
            "  inflating: MICCAI_BraTS_2019_Data_Training/LGG/BraTS19_2013_9_1/BraTS19_2013_9_1_seg.nii  \n",
            "  inflating: MICCAI_BraTS_2019_Data_Training/LGG/BraTS19_2013_9_1/BraTS19_2013_9_1_t1.nii  \n",
            "  inflating: MICCAI_BraTS_2019_Data_Training/LGG/BraTS19_2013_9_1/BraTS19_2013_9_1_t1ce.nii  \n",
            "  inflating: MICCAI_BraTS_2019_Data_Training/LGG/BraTS19_2013_9_1/BraTS19_2013_9_1_t2.nii  \n",
            "  inflating: MICCAI_BraTS_2019_Data_Training/name_mapping.csv  \n",
            "  inflating: MICCAI_BraTS_2019_Data_Training/survival_data.csv  \n"
          ]
        }
      ]
    },
    {
      "cell_type": "code",
      "source": [],
      "metadata": {
        "id": "TeQZYr-Dsh8w"
      },
      "execution_count": null,
      "outputs": []
    },
    {
      "cell_type": "code",
      "source": [
        "path = '/content/MICCAI_BraTS_2019_Data_Training/HGG'"
      ],
      "metadata": {
        "id": "LDR2NCdes3AH"
      },
      "execution_count": 4,
      "outputs": []
    },
    {
      "cell_type": "code",
      "source": [
        "import os\n",
        "os.listdir(path)"
      ],
      "metadata": {
        "colab": {
          "base_uri": "https://localhost:8080/"
        },
        "id": "kMGcK6SWtJT7",
        "outputId": "518a21fe-a41a-4bcf-efa1-0c8c9fe29490"
      },
      "execution_count": 5,
      "outputs": [
        {
          "output_type": "execute_result",
          "data": {
            "text/plain": [
              "['BraTS19_2013_4_1',\n",
              " 'BraTS19_2013_14_1',\n",
              " 'BraTS19_2013_12_1',\n",
              " 'BraTS19_2013_18_1',\n",
              " 'BraTS19_2013_19_1',\n",
              " 'BraTS19_2013_27_1',\n",
              " 'BraTS19_2013_13_1',\n",
              " 'BraTS19_2013_22_1',\n",
              " 'BraTS19_2013_17_1',\n",
              " 'BraTS19_2013_5_1',\n",
              " 'BraTS19_2013_23_1',\n",
              " 'BraTS19_2013_25_1',\n",
              " 'BraTS19_2013_21_1',\n",
              " 'BraTS19_2013_10_1',\n",
              " 'BraTS19_2013_3_1',\n",
              " 'BraTS19_2013_20_1',\n",
              " 'BraTS19_2013_11_1',\n",
              " 'BraTS19_2013_26_1',\n",
              " 'BraTS19_2013_7_1',\n",
              " 'BraTS19_2013_2_1']"
            ]
          },
          "metadata": {},
          "execution_count": 5
        }
      ]
    },
    {
      "cell_type": "code",
      "source": [
        "len(os.listdir(path))"
      ],
      "metadata": {
        "colab": {
          "base_uri": "https://localhost:8080/"
        },
        "id": "YCA-kBTVtKwY",
        "outputId": "4b6492c8-77ad-41ec-d880-9f96e3ad5a39"
      },
      "execution_count": 6,
      "outputs": [
        {
          "output_type": "execute_result",
          "data": {
            "text/plain": [
              "20"
            ]
          },
          "metadata": {},
          "execution_count": 6
        }
      ]
    },
    {
      "cell_type": "code",
      "source": [
        "import skimage.io as io\n",
        "import matplotlib.pyplot as plt\n",
        "import numpy as np\n",
        "import random as r\n",
        "\n",
        "def seg_array(path,end,label):\n",
        "    files = glob.glob(path+end,recursive=True)\n",
        "    img_liste = []\n",
        "    r.seed(9)\n",
        "    r.shuffle(files)\n",
        "    for file in files:\n",
        "        img = io.imread(file,plugin='simpleitk')\n",
        "\n",
        "        if label == 1:\n",
        "            img[img != 0 ] = 1 # complete tumour\n",
        "        if label == 2:\n",
        "            img[img != 1 ] = 0 # nekroz\n",
        "        if label == 3:\n",
        "            img[img == 2 ] = 0 # Tumour without oedema\n",
        "            img[img != 0 ] = 1\n",
        "        if label == 4:\n",
        "            img[img != 4 ] = 0 # Expanding Tumour\n",
        "            img[img == 4 ] = 1\n",
        "\n",
        "        img.astype('float32')\n",
        "\n",
        "        for slice in range(60,130):\n",
        "            img_s = img[slice,:,:]\n",
        "            img_s = np.expand_dims(img_s,axis=0)\n",
        "            img_liste.append(img_s)\n",
        "\n",
        "    return np.array(img_liste,np.float32) #!!!!!!!!\n",
        "\n",
        "\n",
        "def train_array(path,end):\n",
        "    files = glob.glob(path+end,recursive=True)\n",
        "    img_liste = []\n",
        "    r.seed(9)\n",
        "    r.shuffle(files)\n",
        "    for file in files:\n",
        "        img = io.imread(file,plugin='simpleitk')\n",
        "        img = (img-img.mean())/ img.std()\n",
        "        img.astype('float32')\n",
        "\n",
        "        for slice in range(60,130):\n",
        "            img_s = img[slice,:,:]\n",
        "            img_s = np.expand_dims(img_s,axis=0)\n",
        "            img_liste.append(img_s)\n",
        "\n",
        "    return np.array(img_liste,np.float32) #!!!!!!!!"
      ],
      "metadata": {
        "id": "cfpS6NyvtM-X"
      },
      "execution_count": 7,
      "outputs": []
    },
    {
      "cell_type": "code",
      "source": [
        "flair = train_array('/content/MICCAI_BraTS_2019_Data_Training/HGG/', '**/*flair.nii')\n",
        "t2 = train_array('/content/MICCAI_BraTS_2019_Data_Training/HGG/','**/*t2.nii')\n",
        "seg = seg_array('/content/MICCAI_BraTS_2019_Data_Training/HGG/','**/*seg.nii', 1)\n",
        "seg_orj = seg_array('/content/MICCAI_BraTS_2019_Data_Training/HGG/','**/*seg.nii', 1)\n"
      ],
      "metadata": {
        "id": "UxdO0bm7tQlt"
      },
      "execution_count": 22,
      "outputs": []
    },
    {
      "cell_type": "code",
      "source": [
        "flair.shape, seg.shape, t2.shape"
      ],
      "metadata": {
        "colab": {
          "base_uri": "https://localhost:8080/"
        },
        "id": "l03k8NV8tUFZ",
        "outputId": "e6130c45-850c-4f8d-eeda-560ee53580a0"
      },
      "execution_count": 23,
      "outputs": [
        {
          "output_type": "execute_result",
          "data": {
            "text/plain": [
              "((1400, 1, 240, 240), (1400, 1, 240, 240), (1400, 1, 240, 240))"
            ]
          },
          "metadata": {},
          "execution_count": 23
        }
      ]
    },
    {
      "cell_type": "code",
      "source": [
        "flair.dtype, seg.dtype, t2.dtype"
      ],
      "metadata": {
        "colab": {
          "base_uri": "https://localhost:8080/"
        },
        "id": "r4A77qUdvkFB",
        "outputId": "5c0e23ca-e6fa-4433-dc6e-3e48ae59c584"
      },
      "execution_count": 24,
      "outputs": [
        {
          "output_type": "execute_result",
          "data": {
            "text/plain": [
              "(dtype('float32'), dtype('float32'), dtype('float32'))"
            ]
          },
          "metadata": {},
          "execution_count": 24
        }
      ]
    },
    {
      "cell_type": "code",
      "source": [
        "x_train = np.concatenate((flair,t2),axis=1)\n",
        "x_train.dtype, x_train.shape"
      ],
      "metadata": {
        "colab": {
          "base_uri": "https://localhost:8080/"
        },
        "id": "dqWH4xnEvlT0",
        "outputId": "e9fdf8eb-1166-4de5-b6ff-c9c22b6d0802"
      },
      "execution_count": 25,
      "outputs": [
        {
          "output_type": "execute_result",
          "data": {
            "text/plain": [
              "(dtype('float32'), (1400, 2, 240, 240))"
            ]
          },
          "metadata": {},
          "execution_count": 25
        }
      ]
    },
    {
      "cell_type": "code",
      "source": [
        "from keras.models import Model\n",
        "from keras.layers import Dense, Dropout, Activation, Flatten\n",
        "from keras.layers import concatenate, Conv2D, MaxPooling2D, Conv2DTranspose\n",
        "from keras.layers import Input, UpSampling2D,BatchNormalization\n",
        "from keras.models import Model\n",
        "from keras.layers import Input, UpSampling2D, concatenate\n",
        "from keras.callbacks import ModelCheckpoint\n",
        "from keras.optimizers import Adam\n",
        "from keras.preprocessing.image import ImageDataGenerator\n",
        "from keras import backend as K\n",
        "import tensorflow as tf\n",
        "\n",
        "K.set_image_data_format('channels_first')\n",
        "\n",
        "\n",
        "def dice_coef(y_true, y_pred):\n",
        "    smooth = 0.005\n",
        "    y_true_f = K.flatten(y_true)\n",
        "    y_pred_f = K.flatten(y_pred)\n",
        "    intersection = K.sum(y_true_f * y_pred_f)\n",
        "    return (2. * intersection + smooth) / (K.sum(y_true_f) + K.sum(y_pred_f) + smooth)\n",
        "\n",
        "\n",
        "def dice_coef_loss(y_true, y_pred):\n",
        "    return 1-dice_coef(y_true, y_pred)\n",
        "\n",
        "def unet_model():\n",
        "\n",
        "    inputs = Input((2, 240 , 240))\n",
        "\n",
        "    conv1 = Conv2D(64, (3, 3), activation='relu', padding='same') (inputs)\n",
        "    batch1 = BatchNormalization(axis=1)(conv1)\n",
        "    conv1 = Conv2D(64, (3, 3), activation='relu', padding='same') (batch1)\n",
        "    batch1 = BatchNormalization(axis=1)(conv1)\n",
        "    pool1 = MaxPooling2D((2, 2)) (batch1)\n",
        "\n",
        "    conv2 = Conv2D(128, (3, 3), activation='relu', padding='same') (pool1)\n",
        "    batch2 = BatchNormalization(axis=1)(conv2)\n",
        "    conv2 = Conv2D(128, (3, 3), activation='relu', padding='same') (batch2)\n",
        "    batch2 = BatchNormalization(axis=1)(conv2)\n",
        "    pool2 = MaxPooling2D((2, 2)) (batch2)\n",
        "\n",
        "    conv3 = Conv2D(256, (3, 3), activation='relu', padding='same') (pool2)\n",
        "    batch3 = BatchNormalization(axis=1)(conv3)\n",
        "    conv3 = Conv2D(256, (3, 3), activation='relu', padding='same') (batch3)\n",
        "    batch3 = BatchNormalization(axis=1)(conv3)\n",
        "    pool3 = MaxPooling2D((2, 2)) (batch3)\n",
        "\n",
        "    conv4 = Conv2D(512, (3, 3), activation='relu', padding='same') (pool3)\n",
        "    batch4 = BatchNormalization(axis=1)(conv4)\n",
        "    conv4 = Conv2D(512, (3, 3), activation='relu', padding='same') (batch4)\n",
        "    batch4 = BatchNormalization(axis=1)(conv4)\n",
        "    pool4 = MaxPooling2D(pool_size=(2, 2)) (batch4)\n",
        "\n",
        "    conv5 = Conv2D(1024, (3, 3), activation='relu', padding='same') (pool4)\n",
        "    batch5 = BatchNormalization(axis=1)(conv5)\n",
        "    conv5 = Conv2D(1024, (3, 3), activation='relu', padding='same') (batch5)\n",
        "    batch5 = BatchNormalization(axis=1)(conv5)\n",
        "\n",
        "    up6 = Conv2DTranspose(512, (2, 2), strides=(2, 2), padding='same') (batch5)\n",
        "    up6 = concatenate([up6, conv4], axis=1)\n",
        "    conv6 = Conv2D(512, (3, 3), activation='relu', padding='same') (up6)\n",
        "    batch6 = BatchNormalization(axis=1)(conv6)\n",
        "    conv6 = Conv2D(512, (3, 3), activation='relu', padding='same') (batch6)\n",
        "    batch6 = BatchNormalization(axis=1)(conv6)\n",
        "\n",
        "    up7 = Conv2DTranspose(256, (2, 2), strides=(2, 2), padding='same') (batch6)\n",
        "    up7 = concatenate([up7, conv3], axis=1)\n",
        "    conv7 = Conv2D(256, (3, 3), activation='relu', padding='same') (up7)\n",
        "    batch7 = BatchNormalization(axis=1)(conv7)\n",
        "    conv7 = Conv2D(256, (3, 3), activation='relu', padding='same') (batch7)\n",
        "    batch7 = BatchNormalization(axis=1)(conv7)\n",
        "\n",
        "    up8 = Conv2DTranspose(128, (2, 2), strides=(2, 2), padding='same') (batch7)\n",
        "    up8 = concatenate([up8, conv2], axis=1)\n",
        "    conv8 = Conv2D(128, (3, 3), activation='relu', padding='same') (up8)\n",
        "    batch8 = BatchNormalization(axis=1)(conv8)\n",
        "    conv8 = Conv2D(128, (3, 3), activation='relu', padding='same') (batch8)\n",
        "    batch8 = BatchNormalization(axis=1)(conv8)\n",
        "\n",
        "    up9 = Conv2DTranspose(64, (2, 2), strides=(2, 2), padding='same') (batch8)\n",
        "    up9 = concatenate([up9, conv1], axis=1)\n",
        "    conv9 = Conv2D(64, (3, 3), activation='relu', padding='same') (up9)\n",
        "    batch9 = BatchNormalization(axis=1)(conv9)\n",
        "    conv9 = Conv2D(64, (3, 3), activation='relu', padding='same') (batch9)\n",
        "    batch9 = BatchNormalization(axis=1)(conv9)\n",
        "\n",
        "    conv10 = Conv2D(1, (1, 1), activation='sigmoid')(batch9)\n",
        "\n",
        "    model = Model(inputs=[inputs], outputs=[conv10])\n",
        "\n",
        "    model.compile(optimizer=Adam(learning_rate=1e-4), loss=dice_coef_loss, metrics=[dice_coef])\n",
        "\n",
        "    return model\n",
        "\n",
        "model = unet_model()"
      ],
      "metadata": {
        "id": "E5l1iPihvoQi"
      },
      "execution_count": 29,
      "outputs": []
    },
    {
      "cell_type": "code",
      "source": [
        "model.fit(x_train,seg,validation_split=0.20,batch_size=1,epochs=1,shuffle=True,verbose=1)"
      ],
      "metadata": {
        "colab": {
          "base_uri": "https://localhost:8080/"
        },
        "id": "vaZO_t6awLfc",
        "outputId": "0aa1989a-756f-4a76-cb03-ff7f74aa1ff3"
      },
      "execution_count": 30,
      "outputs": [
        {
          "output_type": "stream",
          "name": "stdout",
          "text": [
            "1120/1120 [==============================] - 125s 90ms/step - loss: 0.6069 - dice_coef: 0.3931 - val_loss: 0.4812 - val_dice_coef: 0.5188\n"
          ]
        },
        {
          "output_type": "execute_result",
          "data": {
            "text/plain": [
              "<keras.src.callbacks.History at 0x7fc4035a1570>"
            ]
          },
          "metadata": {},
          "execution_count": 30
        }
      ]
    },
    {
      "cell_type": "code",
      "source": [
        "seg_wide   = seg_array('/content/MICCAI_BraTS_2019_Data_Training/HGG/','**/*seg.nii', 4)\n",
        "seg_unpaid = seg_array('/content/MICCAI_BraTS_2019_Data_Training/HGG/','**/*seg.nii', 3)\n",
        "t1ce = train_array('/content/MICCAI_BraTS_2019_Data_Training/HGG/' ,'**/*t1ce.nii')"
      ],
      "metadata": {
        "id": "S34zfhIwyWPH"
      },
      "execution_count": 34,
      "outputs": []
    },
    {
      "cell_type": "code",
      "source": [
        "plt.figure(figsize=(15,10))\n",
        "\n",
        "plt.subplot(3,4,1)\n",
        "plt.title('T1ce')\n",
        "plt.imshow(t1ce[285,0,:,:])\n",
        "\n",
        "plt.subplot(3,4,2)\n",
        "plt.title('Wide')\n",
        "plt.imshow(seg_wide[285,0,:,:])\n",
        "\n",
        "plt.subplot(3,4,3)\n",
        "plt.title('unpaid')\n",
        "plt.imshow(seg_unpaid[285,0,:,:])"
      ],
      "metadata": {
        "colab": {
          "base_uri": "https://localhost:8080/",
          "height": 326
        },
        "id": "PCALw5yByv-E",
        "outputId": "06a30aa2-b01a-49ef-eff8-ab145eac0456"
      },
      "execution_count": 36,
      "outputs": [
        {
          "output_type": "execute_result",
          "data": {
            "text/plain": [
              "<matplotlib.image.AxesImage at 0x7fc3c819ab90>"
            ]
          },
          "metadata": {},
          "execution_count": 36
        },
        {
          "output_type": "display_data",
          "data": {
            "text/plain": [
              "<Figure size 1500x1000 with 3 Axes>"
            ],
            "image/png": "[encoded data removed]"
          },
          "metadata": {}
        }
      ]
    },
    {
      "cell_type": "code",
      "source": [
        "x    = 110\n",
        "renk = {0:'magma',\n",
        "        1:'viridis',\n",
        "        2:'gray',\n",
        "        3:'inferno',\n",
        "        4:'cividis',\n",
        "        5:'hot', }\n",
        "a    = 4\n",
        "\n",
        "example = np.expand_dims(x_train[x],axis=0)\n",
        "pred = model.predict(example)\n",
        "\n",
        "\n",
        "fig = plt.figure(figsize=(15,10))\n",
        "\n",
        "plt.subplot(141)\n",
        "plt.title('Input (Flair + T2)')\n",
        "plt.imshow(x_train[x][0],cmap = renk[a])\n",
        "\n",
        "plt.subplot(142)\n",
        "plt.title('Radiologist (segmentation)')\n",
        "plt.imshow( seg[x][0],cmap = renk[a])\n",
        "\n",
        "plt.subplot(143)\n",
        "plt.title( 'Computer Prediction' )\n",
        "plt.imshow( pred[0][0],cmap = renk[a])"
      ],
      "metadata": {
        "colab": {
          "base_uri": "https://localhost:8080/",
          "height": 370
        },
        "id": "k9-oU5TJzZ8g",
        "outputId": "558350ca-250d-4660-c365-d99f602c483c"
      },
      "execution_count": 38,
      "outputs": [
        {
          "output_type": "stream",
          "name": "stdout",
          "text": [
            "1/1 [==============================] - 0s 20ms/step\n"
          ]
        },
        {
          "output_type": "execute_result",
          "data": {
            "text/plain": [
              "<matplotlib.image.AxesImage at 0x7fc3c040ec20>"
            ]
          },
          "metadata": {},
          "execution_count": 38
        },
        {
          "output_type": "display_data",
          "data": {
            "text/plain": [
              "<Figure size 1500x1000 with 3 Axes>"
            ],
            "image/png": "[encoded data removed]"
          },
          "metadata": {}
        }
      ]
    }
  ]
}